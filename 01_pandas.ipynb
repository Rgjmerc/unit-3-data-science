{
 "cells": [
  {
   "cell_type": "markdown",
   "metadata": {},
   "source": [
    "## Lab 03.01 - Introduction to Pandas and Data Operations\n",
    "In this lab, you'll learn how to use the pandas library to analyze real-world sales data. By the end of this lab, you'll be comfortable with the fundamental operations in pandas."
   ]
  },
  {
   "cell_type": "markdown",
   "metadata": {
    "vscode": {
     "languageId": "plaintext"
    }
   },
   "source": [
    "### Part 0 - Intro to Pandas\n",
    "Before we dive into using pandas, let's understand what it is and why it's important in data science.\n",
    "\n",
    "To answer the questions, edit the markdown cell and put your answer below the question. \n",
    "\n",
    "**Make sure to save the markdown cell, by pressing the ✓ (check) icon in the top right after answering the questions**\n",
    "\n",
    "Research and critically think about the following questions:"
   ]
  },
  {
   "attachments": {},
   "cell_type": "markdown",
   "metadata": {},
   "source": [
    "##### Question 00\n",
    "What is Pandas, and what are its primary functions in data visualization for data science?\n",
    "- **Answer:** Pandas provides powerful data structures and data analysis tools.\n",
    "\n",
    "##### Question 01\n",
    "What does \"data manipulation\" mean in the context of pandas and data science field?\n",
    "- **Answer:**  It is the most crutal step of data analysis.\n",
    "\n",
    "##### Question 02\n",
    "What kind of files can pandas read? List at least 3:\n",
    "- **Answer:** csv, excel, sql, json, and Python"
   ]
  },
  {
   "cell_type": "markdown",
   "metadata": {},
   "source": [
    "#### 0.0 - Hands-On Exploration\n",
    "Let's start by importing pandas and exploring its basic functionality. Type these commands and write down what you observe:\n",
    "\n",
    "First, let's install the matplotlib library, in your terminal run the following command:\n",
    "\n",
    "```bash\n",
    "pip3 install pandas\n",
    "```\n",
    "\n",
    "Once installed, let's start by importing pandas and exploring its basic functionality. "
   ]
  },
  {
   "cell_type": "code",
   "execution_count": 1,
   "metadata": {},
   "outputs": [],
   "source": [
    "import pandas as pd"
   ]
  },
  {
   "cell_type": "markdown",
   "metadata": {},
   "source": [
    "Now lets run create a list, and see what happens when we use it with pandas."
   ]
  },
  {
   "cell_type": "code",
   "execution_count": 2,
   "metadata": {},
   "outputs": [
    {
     "name": "stdout",
     "output_type": "stream",
     "text": [
      "0    1\n",
      "1    2\n",
      "2    3\n",
      "3    4\n",
      "4    5\n",
      "dtype: int64\n"
     ]
    }
   ],
   "source": [
    "# Create a simple list of numbers\n",
    "numbers = [1, 2, 3, 4, 5]\n",
    "\n",
    "# Convert it to a pandas Series\n",
    "series = pd.Series(numbers)\n",
    "\n",
    "# Print the result\n",
    "print(series)"
   ]
  },
  {
   "attachments": {},
   "cell_type": "markdown",
   "metadata": {},
   "source": [
    "##### Question 03\n",
    "What did you notice about the output format?\n",
    "- **Answer:** The output prints the list index number then the item in the list correlated with that index\n",
    "\n",
    "##### Question 04\n",
    "How is this different from a regular Python list? What are the numbers on the left side?\n",
    "- **Answer:** A normal Python list doesnt include the index. The numbers on the left are the index"
   ]
  },
  {
   "cell_type": "markdown",
   "metadata": {},
   "source": [
    "### Part 1 - Reading and Exploring Data\n",
    "\n",
    "#### 01.00 - Loading Data\n",
    "Let's start by loading our sales data that you downloaded alongside this lab. In pandas, we can read various file formats, but CSV (Comma-Separated Values) is one of the most common."
   ]
  },
  {
   "cell_type": "code",
   "execution_count": 3,
   "metadata": {},
   "outputs": [],
   "source": [
    "sales_df = pd.read_csv('sales_data.csv')"
   ]
  },
  {
   "cell_type": "markdown",
   "metadata": {},
   "source": [
    "When using pandas to load data, in ingests it into what is known as a \"dataframe\", this allows us to do advanced manipulation."
   ]
  },
  {
   "cell_type": "markdown",
   "metadata": {},
   "source": [
    "#### 01.01 - Viewing Data Samples\n",
    "Let's explore the fundamental methods for understanding our data structure and content. We'll look at each method individually and understand what it tells us about our data."
   ]
  },
  {
   "cell_type": "code",
   "execution_count": 7,
   "metadata": {},
   "outputs": [
    {
     "name": "stdout",
     "output_type": "stream",
     "text": [
      "         Date    Product         Category    Price  Units    Total  Discount  \\\n",
      "0  2023-01-01   Notebook  Office Supplies    18.33      2    35.56      0.03   \n",
      "1  2023-01-01     Laptop      Electronics  1943.35      4  7773.40      0.00   \n",
      "2  2023-01-01     Tablet      Electronics   436.05      2   872.10      0.00   \n",
      "3  2023-01-01  USB Drive      Accessories   116.48      3   349.44      0.00   \n",
      "4  2023-01-01    Pen Set  Office Supplies    42.14      4   168.56      0.00   \n",
      "\n",
      "  Region      Sales_Rep Payment_Method Customer_Segment  \n",
      "0  South   Sarah Wilson     Debit Card   Small Business  \n",
      "1  North     John Smith     Debit Card   Small Business  \n",
      "2   East    David Brown  Bank Transfer       Government  \n",
      "3   East  Lisa Anderson         PayPal       Individual  \n",
      "4   East    David Brown     Debit Card        Corporate  \n"
     ]
    }
   ],
   "source": [
    "print(sales_df.head())"
   ]
  },
  {
   "cell_type": "code",
   "execution_count": 5,
   "metadata": {},
   "outputs": [
    {
     "name": "stdout",
     "output_type": "stream",
     "text": [
      "            Date       Product         Category    Price  Units    Total  \\\n",
      "3766  2023-12-31    Smartwatch      Electronics  1730.72      2  3461.44   \n",
      "3767  2023-12-31          Desk        Furniture   462.57      1   462.57   \n",
      "3768  2023-12-31        Laptop      Electronics   560.79      2  1121.58   \n",
      "3769  2023-12-31  Office Chair        Furniture   116.04      2   232.08   \n",
      "3770  2023-12-31      Notebook  Office Supplies    18.15      4    72.60   \n",
      "\n",
      "      Discount Region        Sales_Rep Payment_Method Customer_Segment  \n",
      "3766       0.0  South  Michael Johnson     Debit Card       Individual  \n",
      "3767       0.0  North       John Smith     Debit Card       Government  \n",
      "3768       0.0   East      David Brown     Debit Card   Small Business  \n",
      "3769       0.0  North       Emma Davis    Credit Card        Corporate  \n",
      "3770       0.0  North       Emma Davis         PayPal       Individual  \n"
     ]
    }
   ],
   "source": [
    "print(sales_df.tail())"
   ]
  },
  {
   "attachments": {},
   "cell_type": "markdown",
   "metadata": {},
   "source": [
    "##### Question 04\n",
    "What is the difference between the `tail()` and `head()` commands? What would be use of either command be?\n",
    "- **Answer:** tail() goes to the end of the list while head goes to the start. The use is if you are looking for something on one end of the list it can be easily found.\n",
    "\n",
    "##### Question 05\n",
    "What happens when you put a number in the `head()` function? What changed?\n",
    "- **Answer:** It shows all items in the list until the index before the one imputted."
   ]
  },
  {
   "cell_type": "markdown",
   "metadata": {},
   "source": [
    "#### 01.02 - Understanding DataFrame Structure\n",
    "Let's examine the basic properties of our DataFrame:"
   ]
  },
  {
   "cell_type": "code",
   "execution_count": 8,
   "metadata": {},
   "outputs": [
    {
     "name": "stdout",
     "output_type": "stream",
     "text": [
      "Index(['Date', 'Product', 'Category', 'Price', 'Units', 'Total', 'Discount',\n",
      "       'Region', 'Sales_Rep', 'Payment_Method', 'Customer_Segment'],\n",
      "      dtype='object')\n"
     ]
    }
   ],
   "source": [
    "print(sales_df.columns)"
   ]
  },
  {
   "cell_type": "code",
   "execution_count": 9,
   "metadata": {},
   "outputs": [
    {
     "name": "stdout",
     "output_type": "stream",
     "text": [
      "Date                 object\n",
      "Product              object\n",
      "Category             object\n",
      "Price               float64\n",
      "Units                 int64\n",
      "Total               float64\n",
      "Discount            float64\n",
      "Region               object\n",
      "Sales_Rep            object\n",
      "Payment_Method       object\n",
      "Customer_Segment     object\n",
      "dtype: object\n"
     ]
    }
   ],
   "source": [
    "print(sales_df.dtypes)"
   ]
  },
  {
   "attachments": {},
   "cell_type": "markdown",
   "metadata": {},
   "source": [
    "##### Question 06\n",
    "Compare and contrast the outputs of the `columns` and `dtypes` properties. What is similar what is different?\n",
    "- **Answer:** Column makes the list horozontal while dtypes states all the values on the items in the list and what data type they are\n",
    "\n",
    "##### Question 07\n",
    "What data type is the 'Date' column? Is this what you expected? \n",
    "- **Answer:** Object. It is what i was expecting\n",
    "\n",
    "##### Question 08\n",
    "Why might pandas choose different data types for different columns?\n",
    "- **Answer:** Since those are the data types of the designated items."
   ]
  },
  {
   "cell_type": "markdown",
   "metadata": {},
   "source": [
    "#### 01.03 - Data Information Summary\n",
    "The `info()` method provides a concise summary of our DataFrame:"
   ]
  },
  {
   "cell_type": "code",
   "execution_count": 10,
   "metadata": {},
   "outputs": [
    {
     "name": "stdout",
     "output_type": "stream",
     "text": [
      "<class 'pandas.core.frame.DataFrame'>\n",
      "RangeIndex: 3771 entries, 0 to 3770\n",
      "Data columns (total 11 columns):\n",
      " #   Column            Non-Null Count  Dtype  \n",
      "---  ------            --------------  -----  \n",
      " 0   Date              3771 non-null   object \n",
      " 1   Product           3771 non-null   object \n",
      " 2   Category          3771 non-null   object \n",
      " 3   Price             3771 non-null   float64\n",
      " 4   Units             3771 non-null   int64  \n",
      " 5   Total             3771 non-null   float64\n",
      " 6   Discount          3771 non-null   float64\n",
      " 7   Region            3771 non-null   object \n",
      " 8   Sales_Rep         3693 non-null   object \n",
      " 9   Payment_Method    3739 non-null   object \n",
      " 10  Customer_Segment  3771 non-null   object \n",
      "dtypes: float64(3), int64(1), object(7)\n",
      "memory usage: 324.2+ KB\n",
      "None\n"
     ]
    }
   ],
   "source": [
    "print(sales_df.info())"
   ]
  },
  {
   "attachments": {},
   "cell_type": "markdown",
   "metadata": {},
   "source": [
    "##### Question 09\n",
    "What information does `info()` tell us, how could this information be useful?\n",
    "- **Answer:** Info tells us all information regarding the list\n",
    "\n",
    "##### Question 10\n",
    "How much memory is our DataFrame using? \n",
    "- **Answer:** 324.2+ KB\n",
    "\n",
    "##### Question 11\n",
    "What does \"null\" mean? What impact could having \"null\" values in a dataset?\n",
    "- **Answer:** null means the data does not exist. Having a null can be an issue as it can cause errors in code"
   ]
  },
  {
   "cell_type": "markdown",
   "metadata": {},
   "source": [
    "#### 01.04 - Numerical Summaries\n",
    "The `describe()` method provides statistical summaries for numerical columns:"
   ]
  },
  {
   "cell_type": "code",
   "execution_count": 25,
   "metadata": {},
   "outputs": [
    {
     "name": "stdout",
     "output_type": "stream",
     "text": [
      "             Price        Units         Total     Discount\n",
      "count  3771.000000  3771.000000   3771.000000  3771.000000\n",
      "mean    397.093911     2.985150   1159.701854     0.021594\n",
      "std     514.524434     1.410003   1750.424109     0.041496\n",
      "min       4.810000     1.000000      4.990000     0.000000\n",
      "25%      40.165000     2.000000    110.730000     0.000000\n",
      "50%     134.860000     3.000000    372.870000     0.000000\n",
      "75%     516.490000     4.000000   1472.525000     0.020000\n",
      "max    2073.680000     5.000000  10151.100000     0.150000\n"
     ]
    }
   ],
   "source": [
    "print(sales_df.describe())"
   ]
  },
  {
   "attachments": {},
   "cell_type": "markdown",
   "metadata": {},
   "source": [
    "##### Question 12\n",
    "What statistics does the `describe()` function give us?\n",
    "- **Answer:** describe gives us all values of items in the list\n",
    "\n",
    "##### Question 13\n",
    "Which columns did the `describe()` function perform statistics on? Why? (Hint: why didnt we see 'Product' in the output?)\n",
    "- **Answer:** statistics was preformed on min, 25%, and 50% since the total was larger than the price"
   ]
  },
  {
   "cell_type": "code",
   "execution_count": 12,
   "metadata": {},
   "outputs": [
    {
     "name": "stdout",
     "output_type": "stream",
     "text": [
      "             Price        Units\n",
      "count  3771.000000  3771.000000\n",
      "mean    397.093911     2.985150\n",
      "std     514.524434     1.410003\n",
      "min       4.810000     1.000000\n",
      "25%      40.165000     2.000000\n",
      "50%     134.860000     3.000000\n",
      "75%     516.490000     4.000000\n",
      "max    2073.680000     5.000000\n"
     ]
    }
   ],
   "source": [
    "print(sales_df[['Price', 'Units']].describe())"
   ]
  },
  {
   "attachments": {},
   "cell_type": "markdown",
   "metadata": {},
   "source": [
    "##### Question 14\n",
    "What is different in the codeblock above compared to the previous one. How did this affect the output?\n",
    "- **Answer:** this has a list inside containing only 2 items. This stops all of the list from being printed and only prints 2 cateorgies."
   ]
  },
  {
   "cell_type": "code",
   "execution_count": 13,
   "metadata": {},
   "outputs": [
    {
     "name": "stdout",
     "output_type": "stream",
     "text": [
      "['Office Supplies' 'Electronics' 'Accessories' 'Furniture']\n"
     ]
    }
   ],
   "source": [
    "print(sales_df['Category'].unique())"
   ]
  },
  {
   "attachments": {},
   "cell_type": "markdown",
   "metadata": {},
   "source": [
    "##### Question 15\n",
    "How many unique product categories are in our data set?\n",
    "- **Answer:** 4"
   ]
  },
  {
   "cell_type": "code",
   "execution_count": 14,
   "metadata": {},
   "outputs": [
    {
     "name": "stdout",
     "output_type": "stream",
     "text": [
      "Output 1:\n",
      "Category\n",
      "Office Supplies    953\n",
      "Accessories        942\n",
      "Furniture          941\n",
      "Electronics        935\n",
      "Name: count, dtype: int64\n",
      "\n",
      "\n",
      "Output 2:\n",
      "Category\n",
      "Office Supplies    0.252718\n",
      "Accessories        0.249801\n",
      "Furniture          0.249536\n",
      "Electronics        0.247945\n",
      "Name: proportion, dtype: float64\n"
     ]
    }
   ],
   "source": [
    "print(\"Output 1:\")\n",
    "print(sales_df['Category'].value_counts())\n",
    "\n",
    "print('')\n",
    "print('')\n",
    "\n",
    "print(\"Output 2:\")\n",
    "print(sales_df['Category'].value_counts(normalize=True))"
   ]
  },
  {
   "attachments": {},
   "cell_type": "markdown",
   "metadata": {},
   "source": [
    "##### Question 16\n",
    "What is the difference between the two outputs?\n",
    "- **Answer:** One is in float format while another was in integer\n",
    "\n",
    "##### Question 17\n",
    "What is our most common product category?\n",
    "- **Answer:** Office Supplies"
   ]
  },
  {
   "cell_type": "markdown",
   "metadata": {},
   "source": [
    "##### Excercise 00\n",
    "Using what you've learned, create a code cell direclty below this one to answer these questions:\n",
    "\n",
    "- What is the date range of our sales data? (Hint: try `min()` and `max()` functions)\n",
    "- How many unique products do we sell?\n",
    "- What is the average price by category?\n",
    "- What is our most common payment method?"
   ]
  },
  {
   "cell_type": "code",
   "execution_count": 16,
   "metadata": {},
   "outputs": [
    {
     "name": "stdout",
     "output_type": "stream",
     "text": [
      "2023-01-01\n",
      "2023-12-31\n",
      "['Notebook' 'Laptop' 'Tablet' 'USB Drive' 'Pen Set' 'Laptop Bag' 'Lamp'\n",
      " 'Smartwatch' 'Monitor Stand' 'Desk Organizer' 'Smartphone' 'Stapler'\n",
      " 'Desk' 'Mouse' 'Keyboard' 'Office Chair' 'Bookshelf' 'Paper Clips'\n",
      " 'Headphones' 'Filing Cabinet']\n",
      "Payment_Method\n",
      "Bank Transfer    976\n",
      "Debit Card       932\n",
      "Credit Card      923\n",
      "PayPal           908\n",
      "Name: count, dtype: int64\n"
     ]
    }
   ],
   "source": [
    "print (sales_df[\"Date\"].min())\n",
    "print (sales_df[\"Date\"].max())\n",
    "\n",
    "print (sales_df[\"Product\"].unique())\n",
    "\n",
    "print(sales_df['Payment_Method'].value_counts())"
   ]
  },
  {
   "cell_type": "markdown",
   "metadata": {},
   "source": [
    "### Part 2 - Data Selection and Filtering\n",
    "\n",
    "#### 02.01 - Column Selection\n",
    "There are multiple ways to select columns in pandas. Let's explore them:"
   ]
  },
  {
   "cell_type": "code",
   "execution_count": 23,
   "metadata": {},
   "outputs": [],
   "source": [
    "# Select single column\n",
    "prices = sales_df['Price']\n",
    "\n",
    "# Select multiple columns\n",
    "product_info = sales_df[['Product', 'Price', 'Units']]"
   ]
  },
  {
   "attachments": {},
   "cell_type": "markdown",
   "metadata": {},
   "source": [
    "##### Question 17\n",
    "Compare and contrast how we select multiple columns vs a single column.\n",
    " - **Answer:** A single column has 1 set of square brackets and multiple columns has 2 sets of square brackets."
   ]
  },
  {
   "cell_type": "markdown",
   "metadata": {},
   "source": [
    "##### Excercise 01\n",
    "Using what you've learned, create a code cell direclty below this one to select the 'Region' and 'Category' columns and store them in a variable called 'location_data'."
   ]
  },
  {
   "cell_type": "code",
   "execution_count": 22,
   "metadata": {},
   "outputs": [],
   "source": [
    "location_data = sales_df [[\"Region\",\"Category\"]]"
   ]
  },
  {
   "cell_type": "markdown",
   "metadata": {},
   "source": [
    "#### 02.01 - Filtering Data\n",
    "Let's learn how to filter our data based on conditions:"
   ]
  },
  {
   "cell_type": "code",
   "execution_count": 21,
   "metadata": {},
   "outputs": [
    {
     "name": "stdout",
     "output_type": "stream",
     "text": [
      "Expensive items:\n",
      "            Date     Product     Category    Price  Units    Total  Discount  \\\n",
      "1     2023-01-01      Laptop  Electronics  1943.35      4  7773.40      0.00   \n",
      "9     2023-01-01  Smartwatch  Electronics   893.71      3  2681.13      0.00   \n",
      "10    2023-01-01      Laptop  Electronics   802.12      3  2093.53      0.13   \n",
      "13    2023-01-02  Smartphone  Electronics   687.98      3  2063.94      0.00   \n",
      "16    2023-01-02  Smartwatch  Electronics   507.91      4  2031.64      0.00   \n",
      "...          ...         ...          ...      ...    ...      ...       ...   \n",
      "3760  2023-12-31  Smartphone  Electronics  1766.20      4  7064.80      0.00   \n",
      "3763  2023-12-31      Tablet  Electronics  1424.20      5  7121.00      0.00   \n",
      "3764  2023-12-31  Smartphone  Electronics   857.34      5  4286.70      0.00   \n",
      "3766  2023-12-31  Smartwatch  Electronics  1730.72      2  3461.44      0.00   \n",
      "3768  2023-12-31      Laptop  Electronics   560.79      2  1121.58      0.00   \n",
      "\n",
      "     Region          Sales_Rep Payment_Method Customer_Segment  \n",
      "1     North         John Smith     Debit Card   Small Business  \n",
      "9      West  Jennifer Martinez         PayPal       Government  \n",
      "10     West  Jennifer Martinez     Debit Card       Individual  \n",
      "13     West      Robert Taylor  Bank Transfer   Small Business  \n",
      "16     East        David Brown  Bank Transfer        Corporate  \n",
      "...     ...                ...            ...              ...  \n",
      "3760   West  Jennifer Martinez         PayPal   Small Business  \n",
      "3763  North         John Smith         PayPal        Corporate  \n",
      "3764   West      Robert Taylor  Bank Transfer        Corporate  \n",
      "3766  South    Michael Johnson     Debit Card       Individual  \n",
      "3768   East        David Brown     Debit Card   Small Business  \n",
      "\n",
      "[989 rows x 11 columns]\n",
      "\n",
      "North region sales:\n",
      "            Date       Product         Category    Price  Units    Total  \\\n",
      "1     2023-01-01        Laptop      Electronics  1943.35      4  7773.40   \n",
      "8     2023-01-01          Lamp        Furniture   353.09      5  1518.29   \n",
      "17    2023-01-02          Lamp        Furniture   390.69      3  1160.35   \n",
      "24    2023-01-03     Bookshelf        Furniture   504.67      1   504.67   \n",
      "27    2023-01-03       Pen Set  Office Supplies    30.36      3    91.08   \n",
      "...          ...           ...              ...      ...    ...      ...   \n",
      "3759  2023-12-31     USB Drive      Accessories    86.88      1    77.32   \n",
      "3763  2023-12-31        Tablet      Electronics  1424.20      5  7121.00   \n",
      "3767  2023-12-31          Desk        Furniture   462.57      1   462.57   \n",
      "3769  2023-12-31  Office Chair        Furniture   116.04      2   232.08   \n",
      "3770  2023-12-31      Notebook  Office Supplies    18.15      4    72.60   \n",
      "\n",
      "      Discount Region   Sales_Rep Payment_Method Customer_Segment  \n",
      "1         0.00  North  John Smith     Debit Card   Small Business  \n",
      "8         0.14  North  Emma Davis     Debit Card       Individual  \n",
      "17        0.01  North  Emma Davis    Credit Card       Individual  \n",
      "24        0.00  North  John Smith         PayPal   Small Business  \n",
      "27        0.00  North  John Smith     Debit Card   Small Business  \n",
      "...        ...    ...         ...            ...              ...  \n",
      "3759      0.11  North  Emma Davis         PayPal       Individual  \n",
      "3763      0.00  North  John Smith         PayPal        Corporate  \n",
      "3767      0.00  North  John Smith     Debit Card       Government  \n",
      "3769      0.00  North  Emma Davis    Credit Card        Corporate  \n",
      "3770      0.00  North  Emma Davis         PayPal       Individual  \n",
      "\n",
      "[985 rows x 11 columns]\n"
     ]
    }
   ],
   "source": [
    "expensive_items = sales_df[sales_df['Price'] > 500]\n",
    "\n",
    "north_sales = sales_df[sales_df['Region'] == 'North']\n",
    "\n",
    "print(\"Expensive items:\")\n",
    "print(expensive_items)\n",
    "print(\"\\nNorth region sales:\")\n",
    "print(north_sales)"
   ]
  },
  {
   "attachments": {},
   "cell_type": "markdown",
   "metadata": {},
   "source": [
    "##### Question 18\n",
    "What is `sales_df['Price'] > 500` accomplishing in our code? How might we use this in data science workflows?\n",
    "- **Answer:** That makes it so that the price of expensive items is greater than 500\n",
    "\n",
    "##### Question 19\n",
    "What logic operator would we use to combine multiple conditonals when filtering columns?\n",
    "- **Answer:** And and/or Or"
   ]
  },
  {
   "cell_type": "markdown",
   "metadata": {},
   "source": [
    "##### Excercise 02\n",
    "Using what you've learned, create a code cell direclty below this one to create the following filters:\n",
    "- The number of units sold was greater than 5\n",
    "- The product category is 'Electronics'"
   ]
  },
  {
   "cell_type": "code",
   "execution_count": 19,
   "metadata": {},
   "outputs": [],
   "source": [
    "items = sales_df[sales_df[\"Price\"]>5]\n",
    "sales = sales_df[sales_df[\"Category\"] == \"Electronics\" ]"
   ]
  },
  {
   "attachments": {},
   "cell_type": "markdown",
   "metadata": {},
   "source": [
    "#### Part 3 - Final Summary\n",
    "Use your experience completing this lab, and the code block below to answer the following summary questions\n",
    "\n",
    "##### Question 20\n",
    "In your own words, explain what pandas is and why it's useful for data analysis:\n",
    "- **Answer:** Pandas is a useful tool for data analysis and manipulation as it allows for data to be stored and manipulated with ease\n",
    "\n",
    "##### Question 21\n",
    "How many unique products are in the dataset?\n",
    "- **Answer:** There are 4 unique products.\n",
    "\n",
    "##### Question 22\n",
    "What was the most popular product category in the `North` region? \n",
    "- **Answer:** Electronics"
   ]
  },
  {
   "cell_type": "code",
   "execution_count": 26,
   "metadata": {},
   "outputs": [
    {
     "data": {
      "text/html": [
       "<div>\n",
       "<style scoped>\n",
       "    .dataframe tbody tr th:only-of-type {\n",
       "        vertical-align: middle;\n",
       "    }\n",
       "\n",
       "    .dataframe tbody tr th {\n",
       "        vertical-align: top;\n",
       "    }\n",
       "\n",
       "    .dataframe thead th {\n",
       "        text-align: right;\n",
       "    }\n",
       "</style>\n",
       "<table border=\"1\" class=\"dataframe\">\n",
       "  <thead>\n",
       "    <tr style=\"text-align: right;\">\n",
       "      <th></th>\n",
       "      <th>Date</th>\n",
       "      <th>Category</th>\n",
       "      <th>Price</th>\n",
       "      <th>Units</th>\n",
       "      <th>Total</th>\n",
       "      <th>Discount</th>\n",
       "      <th>Region</th>\n",
       "      <th>Sales_Rep</th>\n",
       "      <th>Payment_Method</th>\n",
       "      <th>Customer_Segment</th>\n",
       "    </tr>\n",
       "    <tr>\n",
       "      <th>Product</th>\n",
       "      <th></th>\n",
       "      <th></th>\n",
       "      <th></th>\n",
       "      <th></th>\n",
       "      <th></th>\n",
       "      <th></th>\n",
       "      <th></th>\n",
       "      <th></th>\n",
       "      <th></th>\n",
       "      <th></th>\n",
       "    </tr>\n",
       "  </thead>\n",
       "  <tbody>\n",
       "    <tr>\n",
       "      <th>Bookshelf</th>\n",
       "      <td>2023-01-03</td>\n",
       "      <td>Furniture</td>\n",
       "      <td>504.67</td>\n",
       "      <td>1</td>\n",
       "      <td>504.67</td>\n",
       "      <td>0.00</td>\n",
       "      <td>North</td>\n",
       "      <td>John Smith</td>\n",
       "      <td>PayPal</td>\n",
       "      <td>Small Business</td>\n",
       "    </tr>\n",
       "    <tr>\n",
       "      <th>Desk</th>\n",
       "      <td>2023-01-02</td>\n",
       "      <td>Furniture</td>\n",
       "      <td>173.22</td>\n",
       "      <td>3</td>\n",
       "      <td>504.07</td>\n",
       "      <td>0.03</td>\n",
       "      <td>East</td>\n",
       "      <td>Lisa Anderson</td>\n",
       "      <td>Debit Card</td>\n",
       "      <td>Small Business</td>\n",
       "    </tr>\n",
       "    <tr>\n",
       "      <th>Desk Organizer</th>\n",
       "      <td>2023-01-02</td>\n",
       "      <td>Office Supplies</td>\n",
       "      <td>17.15</td>\n",
       "      <td>5</td>\n",
       "      <td>85.75</td>\n",
       "      <td>0.00</td>\n",
       "      <td>East</td>\n",
       "      <td>David Brown</td>\n",
       "      <td>Debit Card</td>\n",
       "      <td>Government</td>\n",
       "    </tr>\n",
       "    <tr>\n",
       "      <th>Filing Cabinet</th>\n",
       "      <td>2023-01-15</td>\n",
       "      <td>Furniture</td>\n",
       "      <td>468.71</td>\n",
       "      <td>5</td>\n",
       "      <td>2343.55</td>\n",
       "      <td>0.00</td>\n",
       "      <td>South</td>\n",
       "      <td>Michael Johnson</td>\n",
       "      <td>PayPal</td>\n",
       "      <td>Government</td>\n",
       "    </tr>\n",
       "    <tr>\n",
       "      <th>Headphones</th>\n",
       "      <td>2023-01-06</td>\n",
       "      <td>Electronics</td>\n",
       "      <td>1987.74</td>\n",
       "      <td>2</td>\n",
       "      <td>3975.48</td>\n",
       "      <td>0.00</td>\n",
       "      <td>North</td>\n",
       "      <td>Emma Davis</td>\n",
       "      <td>PayPal</td>\n",
       "      <td>Corporate</td>\n",
       "    </tr>\n",
       "    <tr>\n",
       "      <th>Keyboard</th>\n",
       "      <td>2023-01-02</td>\n",
       "      <td>Accessories</td>\n",
       "      <td>49.33</td>\n",
       "      <td>2</td>\n",
       "      <td>89.78</td>\n",
       "      <td>0.09</td>\n",
       "      <td>South</td>\n",
       "      <td>Sarah Wilson</td>\n",
       "      <td>Bank Transfer</td>\n",
       "      <td>Government</td>\n",
       "    </tr>\n",
       "    <tr>\n",
       "      <th>Lamp</th>\n",
       "      <td>2023-01-01</td>\n",
       "      <td>Furniture</td>\n",
       "      <td>353.09</td>\n",
       "      <td>5</td>\n",
       "      <td>1518.29</td>\n",
       "      <td>0.14</td>\n",
       "      <td>North</td>\n",
       "      <td>Emma Davis</td>\n",
       "      <td>Debit Card</td>\n",
       "      <td>Individual</td>\n",
       "    </tr>\n",
       "    <tr>\n",
       "      <th>Laptop</th>\n",
       "      <td>2023-01-01</td>\n",
       "      <td>Electronics</td>\n",
       "      <td>1943.35</td>\n",
       "      <td>4</td>\n",
       "      <td>7773.40</td>\n",
       "      <td>0.00</td>\n",
       "      <td>North</td>\n",
       "      <td>John Smith</td>\n",
       "      <td>Debit Card</td>\n",
       "      <td>Small Business</td>\n",
       "    </tr>\n",
       "    <tr>\n",
       "      <th>Laptop Bag</th>\n",
       "      <td>2023-01-01</td>\n",
       "      <td>Accessories</td>\n",
       "      <td>94.14</td>\n",
       "      <td>3</td>\n",
       "      <td>245.71</td>\n",
       "      <td>0.13</td>\n",
       "      <td>South</td>\n",
       "      <td>Sarah Wilson</td>\n",
       "      <td>PayPal</td>\n",
       "      <td>Corporate</td>\n",
       "    </tr>\n",
       "    <tr>\n",
       "      <th>Monitor Stand</th>\n",
       "      <td>2023-01-01</td>\n",
       "      <td>Accessories</td>\n",
       "      <td>71.68</td>\n",
       "      <td>5</td>\n",
       "      <td>358.40</td>\n",
       "      <td>0.00</td>\n",
       "      <td>East</td>\n",
       "      <td>David Brown</td>\n",
       "      <td>Debit Card</td>\n",
       "      <td>Corporate</td>\n",
       "    </tr>\n",
       "    <tr>\n",
       "      <th>Mouse</th>\n",
       "      <td>2023-01-02</td>\n",
       "      <td>Accessories</td>\n",
       "      <td>59.36</td>\n",
       "      <td>3</td>\n",
       "      <td>151.37</td>\n",
       "      <td>0.15</td>\n",
       "      <td>West</td>\n",
       "      <td>Robert Taylor</td>\n",
       "      <td>Credit Card</td>\n",
       "      <td>Individual</td>\n",
       "    </tr>\n",
       "    <tr>\n",
       "      <th>Notebook</th>\n",
       "      <td>2023-01-01</td>\n",
       "      <td>Office Supplies</td>\n",
       "      <td>18.33</td>\n",
       "      <td>2</td>\n",
       "      <td>35.56</td>\n",
       "      <td>0.03</td>\n",
       "      <td>South</td>\n",
       "      <td>Sarah Wilson</td>\n",
       "      <td>Debit Card</td>\n",
       "      <td>Small Business</td>\n",
       "    </tr>\n",
       "    <tr>\n",
       "      <th>Office Chair</th>\n",
       "      <td>2023-01-03</td>\n",
       "      <td>Furniture</td>\n",
       "      <td>323.06</td>\n",
       "      <td>1</td>\n",
       "      <td>323.06</td>\n",
       "      <td>0.00</td>\n",
       "      <td>South</td>\n",
       "      <td>Sarah Wilson</td>\n",
       "      <td>Credit Card</td>\n",
       "      <td>Corporate</td>\n",
       "    </tr>\n",
       "    <tr>\n",
       "      <th>Paper Clips</th>\n",
       "      <td>2023-01-03</td>\n",
       "      <td>Office Supplies</td>\n",
       "      <td>14.95</td>\n",
       "      <td>3</td>\n",
       "      <td>44.85</td>\n",
       "      <td>0.00</td>\n",
       "      <td>East</td>\n",
       "      <td>David Brown</td>\n",
       "      <td>Credit Card</td>\n",
       "      <td>Corporate</td>\n",
       "    </tr>\n",
       "    <tr>\n",
       "      <th>Pen Set</th>\n",
       "      <td>2023-01-01</td>\n",
       "      <td>Office Supplies</td>\n",
       "      <td>42.14</td>\n",
       "      <td>4</td>\n",
       "      <td>168.56</td>\n",
       "      <td>0.00</td>\n",
       "      <td>East</td>\n",
       "      <td>David Brown</td>\n",
       "      <td>Debit Card</td>\n",
       "      <td>Corporate</td>\n",
       "    </tr>\n",
       "    <tr>\n",
       "      <th>Smartphone</th>\n",
       "      <td>2023-01-02</td>\n",
       "      <td>Electronics</td>\n",
       "      <td>687.98</td>\n",
       "      <td>3</td>\n",
       "      <td>2063.94</td>\n",
       "      <td>0.00</td>\n",
       "      <td>West</td>\n",
       "      <td>Robert Taylor</td>\n",
       "      <td>Bank Transfer</td>\n",
       "      <td>Small Business</td>\n",
       "    </tr>\n",
       "    <tr>\n",
       "      <th>Smartwatch</th>\n",
       "      <td>2023-01-01</td>\n",
       "      <td>Electronics</td>\n",
       "      <td>893.71</td>\n",
       "      <td>3</td>\n",
       "      <td>2681.13</td>\n",
       "      <td>0.00</td>\n",
       "      <td>West</td>\n",
       "      <td>Jennifer Martinez</td>\n",
       "      <td>PayPal</td>\n",
       "      <td>Government</td>\n",
       "    </tr>\n",
       "    <tr>\n",
       "      <th>Stapler</th>\n",
       "      <td>2023-01-02</td>\n",
       "      <td>Office Supplies</td>\n",
       "      <td>24.32</td>\n",
       "      <td>3</td>\n",
       "      <td>72.96</td>\n",
       "      <td>0.00</td>\n",
       "      <td>West</td>\n",
       "      <td>Robert Taylor</td>\n",
       "      <td>PayPal</td>\n",
       "      <td>Corporate</td>\n",
       "    </tr>\n",
       "    <tr>\n",
       "      <th>Tablet</th>\n",
       "      <td>2023-01-01</td>\n",
       "      <td>Electronics</td>\n",
       "      <td>436.05</td>\n",
       "      <td>2</td>\n",
       "      <td>872.10</td>\n",
       "      <td>0.00</td>\n",
       "      <td>East</td>\n",
       "      <td>David Brown</td>\n",
       "      <td>Bank Transfer</td>\n",
       "      <td>Government</td>\n",
       "    </tr>\n",
       "    <tr>\n",
       "      <th>USB Drive</th>\n",
       "      <td>2023-01-01</td>\n",
       "      <td>Accessories</td>\n",
       "      <td>116.48</td>\n",
       "      <td>3</td>\n",
       "      <td>349.44</td>\n",
       "      <td>0.00</td>\n",
       "      <td>East</td>\n",
       "      <td>Lisa Anderson</td>\n",
       "      <td>PayPal</td>\n",
       "      <td>Individual</td>\n",
       "    </tr>\n",
       "  </tbody>\n",
       "</table>\n",
       "</div>"
      ],
      "text/plain": [
       "                      Date         Category    Price  Units    Total  \\\n",
       "Product                                                                \n",
       "Bookshelf       2023-01-03        Furniture   504.67      1   504.67   \n",
       "Desk            2023-01-02        Furniture   173.22      3   504.07   \n",
       "Desk Organizer  2023-01-02  Office Supplies    17.15      5    85.75   \n",
       "Filing Cabinet  2023-01-15        Furniture   468.71      5  2343.55   \n",
       "Headphones      2023-01-06      Electronics  1987.74      2  3975.48   \n",
       "Keyboard        2023-01-02      Accessories    49.33      2    89.78   \n",
       "Lamp            2023-01-01        Furniture   353.09      5  1518.29   \n",
       "Laptop          2023-01-01      Electronics  1943.35      4  7773.40   \n",
       "Laptop Bag      2023-01-01      Accessories    94.14      3   245.71   \n",
       "Monitor Stand   2023-01-01      Accessories    71.68      5   358.40   \n",
       "Mouse           2023-01-02      Accessories    59.36      3   151.37   \n",
       "Notebook        2023-01-01  Office Supplies    18.33      2    35.56   \n",
       "Office Chair    2023-01-03        Furniture   323.06      1   323.06   \n",
       "Paper Clips     2023-01-03  Office Supplies    14.95      3    44.85   \n",
       "Pen Set         2023-01-01  Office Supplies    42.14      4   168.56   \n",
       "Smartphone      2023-01-02      Electronics   687.98      3  2063.94   \n",
       "Smartwatch      2023-01-01      Electronics   893.71      3  2681.13   \n",
       "Stapler         2023-01-02  Office Supplies    24.32      3    72.96   \n",
       "Tablet          2023-01-01      Electronics   436.05      2   872.10   \n",
       "USB Drive       2023-01-01      Accessories   116.48      3   349.44   \n",
       "\n",
       "                Discount Region          Sales_Rep Payment_Method  \\\n",
       "Product                                                             \n",
       "Bookshelf           0.00  North         John Smith         PayPal   \n",
       "Desk                0.03   East      Lisa Anderson     Debit Card   \n",
       "Desk Organizer      0.00   East        David Brown     Debit Card   \n",
       "Filing Cabinet      0.00  South    Michael Johnson         PayPal   \n",
       "Headphones          0.00  North         Emma Davis         PayPal   \n",
       "Keyboard            0.09  South       Sarah Wilson  Bank Transfer   \n",
       "Lamp                0.14  North         Emma Davis     Debit Card   \n",
       "Laptop              0.00  North         John Smith     Debit Card   \n",
       "Laptop Bag          0.13  South       Sarah Wilson         PayPal   \n",
       "Monitor Stand       0.00   East        David Brown     Debit Card   \n",
       "Mouse               0.15   West      Robert Taylor    Credit Card   \n",
       "Notebook            0.03  South       Sarah Wilson     Debit Card   \n",
       "Office Chair        0.00  South       Sarah Wilson    Credit Card   \n",
       "Paper Clips         0.00   East        David Brown    Credit Card   \n",
       "Pen Set             0.00   East        David Brown     Debit Card   \n",
       "Smartphone          0.00   West      Robert Taylor  Bank Transfer   \n",
       "Smartwatch          0.00   West  Jennifer Martinez         PayPal   \n",
       "Stapler             0.00   West      Robert Taylor         PayPal   \n",
       "Tablet              0.00   East        David Brown  Bank Transfer   \n",
       "USB Drive           0.00   East      Lisa Anderson         PayPal   \n",
       "\n",
       "               Customer_Segment  \n",
       "Product                          \n",
       "Bookshelf        Small Business  \n",
       "Desk             Small Business  \n",
       "Desk Organizer       Government  \n",
       "Filing Cabinet       Government  \n",
       "Headphones            Corporate  \n",
       "Keyboard             Government  \n",
       "Lamp                 Individual  \n",
       "Laptop           Small Business  \n",
       "Laptop Bag            Corporate  \n",
       "Monitor Stand         Corporate  \n",
       "Mouse                Individual  \n",
       "Notebook         Small Business  \n",
       "Office Chair          Corporate  \n",
       "Paper Clips           Corporate  \n",
       "Pen Set               Corporate  \n",
       "Smartphone       Small Business  \n",
       "Smartwatch           Government  \n",
       "Stapler               Corporate  \n",
       "Tablet               Government  \n",
       "USB Drive            Individual  "
      ]
     },
     "execution_count": 26,
     "metadata": {},
     "output_type": "execute_result"
    }
   ],
   "source": [
    "grp = sales_df.groupby(\"Product\")\n",
    "grp.first()"
   ]
  },
  {
   "cell_type": "code",
   "execution_count": 30,
   "metadata": {},
   "outputs": [
    {
     "data": {
      "text/html": [
       "<div>\n",
       "<style scoped>\n",
       "    .dataframe tbody tr th:only-of-type {\n",
       "        vertical-align: middle;\n",
       "    }\n",
       "\n",
       "    .dataframe tbody tr th {\n",
       "        vertical-align: top;\n",
       "    }\n",
       "\n",
       "    .dataframe thead th {\n",
       "        text-align: right;\n",
       "    }\n",
       "</style>\n",
       "<table border=\"1\" class=\"dataframe\">\n",
       "  <thead>\n",
       "    <tr style=\"text-align: right;\">\n",
       "      <th></th>\n",
       "      <th>Date</th>\n",
       "      <th>Product</th>\n",
       "      <th>Category</th>\n",
       "      <th>Price</th>\n",
       "      <th>Units</th>\n",
       "      <th>Total</th>\n",
       "      <th>Discount</th>\n",
       "      <th>Sales_Rep</th>\n",
       "      <th>Payment_Method</th>\n",
       "      <th>Customer_Segment</th>\n",
       "    </tr>\n",
       "    <tr>\n",
       "      <th>Region</th>\n",
       "      <th></th>\n",
       "      <th></th>\n",
       "      <th></th>\n",
       "      <th></th>\n",
       "      <th></th>\n",
       "      <th></th>\n",
       "      <th></th>\n",
       "      <th></th>\n",
       "      <th></th>\n",
       "      <th></th>\n",
       "    </tr>\n",
       "  </thead>\n",
       "  <tbody>\n",
       "    <tr>\n",
       "      <th>East</th>\n",
       "      <td>2023-01-01</td>\n",
       "      <td>Tablet</td>\n",
       "      <td>Electronics</td>\n",
       "      <td>436.05</td>\n",
       "      <td>2</td>\n",
       "      <td>872.10</td>\n",
       "      <td>0.00</td>\n",
       "      <td>David Brown</td>\n",
       "      <td>Bank Transfer</td>\n",
       "      <td>Government</td>\n",
       "    </tr>\n",
       "    <tr>\n",
       "      <th>North</th>\n",
       "      <td>2023-01-01</td>\n",
       "      <td>Laptop</td>\n",
       "      <td>Electronics</td>\n",
       "      <td>1943.35</td>\n",
       "      <td>4</td>\n",
       "      <td>7773.40</td>\n",
       "      <td>0.00</td>\n",
       "      <td>John Smith</td>\n",
       "      <td>Debit Card</td>\n",
       "      <td>Small Business</td>\n",
       "    </tr>\n",
       "    <tr>\n",
       "      <th>South</th>\n",
       "      <td>2023-01-01</td>\n",
       "      <td>Notebook</td>\n",
       "      <td>Office Supplies</td>\n",
       "      <td>18.33</td>\n",
       "      <td>2</td>\n",
       "      <td>35.56</td>\n",
       "      <td>0.03</td>\n",
       "      <td>Sarah Wilson</td>\n",
       "      <td>Debit Card</td>\n",
       "      <td>Small Business</td>\n",
       "    </tr>\n",
       "    <tr>\n",
       "      <th>West</th>\n",
       "      <td>2023-01-01</td>\n",
       "      <td>Pen Set</td>\n",
       "      <td>Office Supplies</td>\n",
       "      <td>26.14</td>\n",
       "      <td>4</td>\n",
       "      <td>90.97</td>\n",
       "      <td>0.13</td>\n",
       "      <td>Jennifer Martinez</td>\n",
       "      <td>Bank Transfer</td>\n",
       "      <td>Corporate</td>\n",
       "    </tr>\n",
       "  </tbody>\n",
       "</table>\n",
       "</div>"
      ],
      "text/plain": [
       "              Date   Product         Category    Price  Units    Total  \\\n",
       "Region                                                                   \n",
       "East    2023-01-01    Tablet      Electronics   436.05      2   872.10   \n",
       "North   2023-01-01    Laptop      Electronics  1943.35      4  7773.40   \n",
       "South   2023-01-01  Notebook  Office Supplies    18.33      2    35.56   \n",
       "West    2023-01-01   Pen Set  Office Supplies    26.14      4    90.97   \n",
       "\n",
       "        Discount          Sales_Rep Payment_Method Customer_Segment  \n",
       "Region                                                               \n",
       "East        0.00        David Brown  Bank Transfer       Government  \n",
       "North       0.00         John Smith     Debit Card   Small Business  \n",
       "South       0.03       Sarah Wilson     Debit Card   Small Business  \n",
       "West        0.13  Jennifer Martinez  Bank Transfer        Corporate  "
      ]
     },
     "execution_count": 30,
     "metadata": {},
     "output_type": "execute_result"
    }
   ],
   "source": [
    "grp = sales_df.groupby(\"Region\")\n",
    "grp.first()"
   ]
  },
  {
   "cell_type": "code",
   "execution_count": 54,
   "metadata": {},
   "outputs": [
    {
     "data": {
      "image/png": "[encoded data removed]",
      "text/plain": [
       "<Figure size 640x480 with 1 Axes>"
      ]
     },
     "metadata": {},
     "output_type": "display_data"
    }
   ],
   "source": [
    "sales_df.plot(kind = 'scatter', x = 'Price', y = 'Total')"
   ]
  }
 ],
 "metadata": {
  "kernelspec": {
   "display_name": "Python 3",
   "language": "python",
   "name": "python3"
  },
  "language_info": {
   "codemirror_mode": {
    "name": "ipython",
    "version": 3
   },
   "file_extension": ".py",
   "mimetype": "text/x-python",
   "name": "python",
   "nbconvert_exporter": "python",
   "pygments_lexer": "ipython3",
   "version": "3.10.8"
  },
  "vscode": {
   "interpreter": {
    "hash": "b0fa6594d8f4cbf19f97940f81e996739fb7646882a419484c72d19e05852a7e"
   }
  }
 },
 "nbformat": 4,
 "nbformat_minor": 2
}
